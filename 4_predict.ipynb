{
 "cells": [
  {
   "cell_type": "code",
   "execution_count": 10,
   "metadata": {},
   "outputs": [
    {
     "name": "stdout",
     "output_type": "stream",
     "text": [
      "\n",
      "0: 1024x1024 29 s, 186.8ms\n",
      "Speed: 3.6ms preprocess, 186.8ms inference, 1.2ms postprocess per image at shape (1, 3, 1024, 1024)\n",
      "検出された物体の個数: 29\n"
     ]
    }
   ],
   "source": [
    "from ultralytics import YOLO\n",
    "import cv2\n",
    "\n",
    "# モデルのロード\n",
    "model = YOLO('best.pt')  # 必要に応じて適切なモデルを指定\n",
    "\n",
    "# 画像の読み込み\n",
    "image_path = 'Dataset/val/images/val_adjusted_image_16bit_rgb10.png'\n",
    "image = cv2.imread(image_path)\n",
    "\n",
    "# 物体検出\n",
    "results = model(image)\n",
    "\n",
    "# 検出された物体の数\n",
    "# pandas()の結果はDataFrame形式で、検出された物体の数を行数で数えます\n",
    "detected_count = len(results[0].boxes)  # 検出された物体の数\n",
    "\n",
    "# 検出された物体の個数を表示\n",
    "print(f'検出された物体の個数: {detected_count}')\n",
    "\n",
    "for result in results:\n",
    "    result.show()\n"
   ]
  }
 ],
 "metadata": {
  "kernelspec": {
   "display_name": ".venv",
   "language": "python",
   "name": "python3"
  },
  "language_info": {
   "codemirror_mode": {
    "name": "ipython",
    "version": 3
   },
   "file_extension": ".py",
   "mimetype": "text/x-python",
   "name": "python",
   "nbconvert_exporter": "python",
   "pygments_lexer": "ipython3",
   "version": "3.12.6"
  }
 },
 "nbformat": 4,
 "nbformat_minor": 2
}
