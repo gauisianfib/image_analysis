{
 "cells": [
  {
   "cell_type": "code",
   "execution_count": null,
   "metadata": {},
   "outputs": [],
   "source": [
    "# !pip3 install ultralytics torch\n",
    "!pip3 install ultralytics torch\n",
    "\n",
    "import os \n",
    "from ultralytics import YOLO\n",
    "import torch\n",
    "\n",
    "os.chdir(\"/content/drive/MyDrive/train_for_googlecolab\")\n",
    "\n",
    "# モデルのロード（例: YOLOv8n）\n",
    "model = YOLO('yolov8n.pt')\n",
    "\n",
    "# GPUの確認\n",
    "device = \"cuda\" if torch.cuda.is_available() else \"cpu\"\n",
    "\n",
    "# トレーニングの実行\n",
    "results = model.train(\n",
    "    data=f'{os.getcwd()}/new_yolo.yaml',  # データセットの設定\n",
    "    epochs=30,             # エポック数\n",
    "    batch=16,              # バッチサイズ\n",
    "    imgsz=512,             # 画像サイズ\n",
    "    workers=16,            # ワーカー数\n",
    "    device=device,         # デバイス設定（MPSまたはCPU使用）\n",
    "    cache=False\n",
    ")\n"
   ]
  }
 ],
 "metadata": {
  "language_info": {
   "name": "python"
  }
 },
 "nbformat": 4,
 "nbformat_minor": 2
}
