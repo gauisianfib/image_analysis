{
 "cells": [
  {
   "cell_type": "code",
   "execution_count": 1,
   "metadata": {},
   "outputs": [
    {
     "name": "stdout",
     "output_type": "stream",
     "text": [
      "ディレクトリ Dataset/model を作成しました。\n",
      "ディレクトリ Dataset/nd2 を作成しました。\n",
      "ディレクトリ Dataset/train/train_image/augmented_image を作成しました。\n",
      "ディレクトリ Dataset/train/train_image/oliginal_image を作成しました。\n",
      "ディレクトリ Dataset/train/train_image/processed_image を作成しました。\n",
      "ディレクトリ Dataset/train/train_label/augmented_label を作成しました。\n",
      "ディレクトリ Dataset/train/train_label/processed_label を作成しました。\n",
      "ディレクトリ Dataset/val/val_image/oliginal_image を作成しました。\n",
      "ディレクトリ Dataset/val/val_image/processed_image を作成しました。\n",
      "ディレクトリ Dataset/val/val_label/oliginal_label を作成しました。\n",
      "ディレクトリ Dataset/val/val_label/processed_label を作成しました。\n",
      "Mac OS Version is 14.6.1 and patch enabled so applying the patch\n"
     ]
    }
   ],
   "source": [
    "%run 1_save_image.ipynb\n",
    "%run 2_process_image.ipynb\n",
    "%run 3_anotation.ipynb"
   ]
  }
 ],
 "metadata": {
  "kernelspec": {
   "display_name": ".venv",
   "language": "python",
   "name": "python3"
  },
  "language_info": {
   "codemirror_mode": {
    "name": "ipython",
    "version": 3
   },
   "file_extension": ".py",
   "mimetype": "text/x-python",
   "name": "python",
   "nbconvert_exporter": "python",
   "pygments_lexer": "ipython3",
   "version": "3.12.6"
  }
 },
 "nbformat": 4,
 "nbformat_minor": 2
}
